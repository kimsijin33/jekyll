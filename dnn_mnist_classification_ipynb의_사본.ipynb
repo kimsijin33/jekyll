{
  "nbformat": 4,
  "nbformat_minor": 0,
  "metadata": {
    "colab": {
      "name": "dnn_mnist_classification.ipynb의 사본",
      "provenance": [],
      "collapsed_sections": [],
      "include_colab_link": true
    },
    "kernelspec": {
      "name": "python3",
      "display_name": "Python 3"
    }
  },
  "cells": [
    {
      "cell_type": "markdown",
      "metadata": {
        "id": "view-in-github",
        "colab_type": "text"
      },
      "source": [
        "<a href=\"https://colab.research.google.com/github/kimsijin33/sizin/blob/master/dnn_mnist_classification_ipynb%EC%9D%98_%EC%82%AC%EB%B3%B8.ipynb\" target=\"_parent\"><img src=\"https://colab.research.google.com/assets/colab-badge.svg\" alt=\"Open In Colab\"/></a>"
      ]
    },
    {
      "cell_type": "code",
      "metadata": {
        "id": "Ef8vm3RO1rrU",
        "colab_type": "code",
        "colab": {}
      },
      "source": [
        "from tensorflow.keras.datasets import mnist\n",
        "import matplotlib.pyplot as plt"
      ],
      "execution_count": null,
      "outputs": []
    },
    {
      "cell_type": "code",
      "metadata": {
        "id": "FagQoa3n3HQ4",
        "colab_type": "code",
        "colab": {}
      },
      "source": [
        "(train_images, train_labels), (test_images, test_labels) = mnist.load_data()"
      ],
      "execution_count": null,
      "outputs": []
    },
    {
      "cell_type": "code",
      "metadata": {
        "id": "T-i6lXs8DGyg",
        "colab_type": "code",
        "colab": {
          "base_uri": "https://localhost:8080/",
          "height": 53
        },
        "outputId": "9cb5c6dd-6654-4d25-b618-c7eb4b1c0c42"
      },
      "source": [
        "print(train_images.shape)\n",
        "print(train_labels.shape)"
      ],
      "execution_count": null,
      "outputs": [
        {
          "output_type": "stream",
          "text": [
            "(60000, 28, 28)\n",
            "(60000,)\n"
          ],
          "name": "stdout"
        }
      ]
    },
    {
      "cell_type": "code",
      "metadata": {
        "id": "1YLPJZ_bDjuk",
        "colab_type": "code",
        "colab": {
          "base_uri": "https://localhost:8080/",
          "height": 35
        },
        "outputId": "96c808f8-1711-4e86-baae-901ff691f357"
      },
      "source": [
        "train_labels[0]"
      ],
      "execution_count": null,
      "outputs": [
        {
          "output_type": "execute_result",
          "data": {
            "text/plain": [
              "5"
            ]
          },
          "metadata": {
            "tags": []
          },
          "execution_count": 4
        }
      ]
    },
    {
      "cell_type": "code",
      "metadata": {
        "id": "uMFvHjgV3pxl",
        "colab_type": "code",
        "colab": {
          "base_uri": "https://localhost:8080/",
          "height": 265
        },
        "outputId": "1a0de142-beea-48d7-f41e-42e62571858d"
      },
      "source": [
        "plt.figure()\n",
        "plt.imshow(train_images[0])\n",
        "plt.colorbar()\n",
        "plt.grid(False)\n",
        "plt.show()"
      ],
      "execution_count": null,
      "outputs": [
        {
          "output_type": "display_data",
          "data": {
            "image/png": "[encoded data removed]",
            "text/plain": [
              "<Figure size 432x288 with 2 Axes>"
            ]
          },
          "metadata": {
            "tags": [],
            "needs_background": "light"
          }
        }
      ]
    },
    {
      "cell_type": "code",
      "metadata": {
        "id": "5QMA5pLMniT5",
        "colab_type": "code",
        "colab": {
          "base_uri": "https://localhost:8080/",
          "height": 35
        },
        "outputId": "3017b8fe-4348-43f3-b351-2ae35223a29b"
      },
      "source": [
        "train_images.shape"
      ],
      "execution_count": null,
      "outputs": [
        {
          "output_type": "execute_result",
          "data": {
            "text/plain": [
              "(60000, 28, 28)"
            ]
          },
          "metadata": {
            "tags": []
          },
          "execution_count": 6
        }
      ]
    },
    {
      "cell_type": "code",
      "metadata": {
        "id": "e3paeKOX3QAw",
        "colab_type": "code",
        "colab": {}
      },
      "source": [
        "# input : Feature, Atrribute => Flatten\n",
        "train_images = train_images.reshape((60000, 28*28))\n",
        "test_images = test_images.reshape((10000, 28*28))"
      ],
      "execution_count": null,
      "outputs": []
    },
    {
      "cell_type": "code",
      "metadata": {
        "id": "-o_ZLww-D9BY",
        "colab_type": "code",
        "colab": {
          "base_uri": "https://localhost:8080/",
          "height": 35
        },
        "outputId": "0575c68a-3152-4772-811c-93f9ac7075ee"
      },
      "source": [
        "train_images.shape"
      ],
      "execution_count": null,
      "outputs": [
        {
          "output_type": "execute_result",
          "data": {
            "text/plain": [
              "(60000, 784)"
            ]
          },
          "metadata": {
            "tags": []
          },
          "execution_count": 8
        }
      ]
    },
    {
      "cell_type": "code",
      "metadata": {
        "id": "Yk2-XqNLOqHn",
        "colab_type": "code",
        "colab": {
          "base_uri": "https://localhost:8080/",
          "height": 35
        },
        "outputId": "65d3e985-cf5a-42b2-cf28-5c87b2ab3f6b"
      },
      "source": [
        "train_labels[0]"
      ],
      "execution_count": null,
      "outputs": [
        {
          "output_type": "execute_result",
          "data": {
            "text/plain": [
              "5"
            ]
          },
          "metadata": {
            "tags": []
          },
          "execution_count": 9
        }
      ]
    },
    {
      "cell_type": "code",
      "metadata": {
        "id": "g7yFighv3k9g",
        "colab_type": "code",
        "colab": {}
      },
      "source": [
        "# Label : one hot encoding\n",
        "from tensorflow.keras.utils import to_categorical"
      ],
      "execution_count": null,
      "outputs": []
    },
    {
      "cell_type": "code",
      "metadata": {
        "id": "OZ2uIlyJ3qno",
        "colab_type": "code",
        "colab": {}
      },
      "source": [
        "train_labels = to_categorical(train_labels)\n",
        "test_labels = to_categorical(test_labels)"
      ],
      "execution_count": null,
      "outputs": []
    },
    {
      "cell_type": "code",
      "metadata": {
        "id": "hswGLn97EkNY",
        "colab_type": "code",
        "colab": {
          "base_uri": "https://localhost:8080/",
          "height": 35
        },
        "outputId": "7ef562e8-0b89-4244-858e-8e60fc5ac008"
      },
      "source": [
        "train_labels.shape, test_labels.shape"
      ],
      "execution_count": null,
      "outputs": [
        {
          "output_type": "execute_result",
          "data": {
            "text/plain": [
              "((60000, 10), (10000, 10))"
            ]
          },
          "metadata": {
            "tags": []
          },
          "execution_count": 12
        }
      ]
    },
    {
      "cell_type": "code",
      "metadata": {
        "id": "puHEXT9TErRq",
        "colab_type": "code",
        "colab": {
          "base_uri": "https://localhost:8080/",
          "height": 35
        },
        "outputId": "21588580-7452-429f-fb2d-9e228b70ea25"
      },
      "source": [
        "train_labels[0]"
      ],
      "execution_count": null,
      "outputs": [
        {
          "output_type": "execute_result",
          "data": {
            "text/plain": [
              "array([0., 0., 0., 0., 0., 1., 0., 0., 0., 0.], dtype=float32)"
            ]
          },
          "metadata": {
            "tags": []
          },
          "execution_count": 13
        }
      ]
    },
    {
      "cell_type": "code",
      "metadata": {
        "id": "EFB35ZRu37XG",
        "colab_type": "code",
        "colab": {}
      },
      "source": [
        "from tensorflow.keras import models, layers"
      ],
      "execution_count": null,
      "outputs": []
    },
    {
      "cell_type": "code",
      "metadata": {
        "id": "vE6VIPbL4Okf",
        "colab_type": "code",
        "colab": {}
      },
      "source": [
        "# 3 Layer :\n",
        "# input layer feature count : 784(28*28)\n",
        "# hidden layer perceptron : 512, 'relu'\n",
        "# output layer perceptron : 10, 'softmax'\n",
        "model = models.Sequential()\n",
        "model.add(layers.Dense(units=512,\n",
        "                       activation='relu',\n",
        "                       input_shape=(28*28,)))\n",
        "model.add(layers.Dense(units=10, activation='softmax'))"
      ],
      "execution_count": null,
      "outputs": []
    },
    {
      "cell_type": "code",
      "metadata": {
        "id": "Wc5A0Ucz4tNW",
        "colab_type": "code",
        "colab": {
          "base_uri": "https://localhost:8080/",
          "height": 233
        },
        "outputId": "29f1da33-1154-4525-920c-c3f0d70b6836"
      },
      "source": [
        "model.summary()"
      ],
      "execution_count": null,
      "outputs": [
        {
          "output_type": "stream",
          "text": [
            "Model: \"sequential_2\"\n",
            "_________________________________________________________________\n",
            "Layer (type)                 Output Shape              Param #   \n",
            "=================================================================\n",
            "dense_4 (Dense)              (None, 512)               401920    \n",
            "_________________________________________________________________\n",
            "dense_5 (Dense)              (None, 10)                5130      \n",
            "=================================================================\n",
            "Total params: 407,050\n",
            "Trainable params: 407,050\n",
            "Non-trainable params: 0\n",
            "_________________________________________________________________\n"
          ],
          "name": "stdout"
        }
      ]
    },
    {
      "cell_type": "code",
      "metadata": {
        "id": "UruvLv1a4ufe",
        "colab_type": "code",
        "colab": {}
      },
      "source": [
        "model.compile(optimizer='rmsprop',\n",
        "              loss='categorical_crossentropy',\n",
        "              metrics=['accuracy'])"
      ],
      "execution_count": null,
      "outputs": []
    },
    {
      "cell_type": "code",
      "metadata": {
        "id": "8AJEYEcW5I-l",
        "colab_type": "code",
        "colab": {
          "base_uri": "https://localhost:8080/",
          "height": 1000
        },
        "outputId": "71448d18-2680-4cb9-8e84-3ebd587937e3"
      },
      "source": [
        "history = model.fit(x=train_images, y=train_labels,\n",
        "                    epochs=30,\n",
        "                    batch_size=100,\n",
        "                    validation_split=0.2)"
      ],
      "execution_count": null,
      "outputs": [
        {
          "output_type": "stream",
          "text": [
            "Epoch 1/30\n",
            "480/480 [==============================] - 5s 10ms/step - loss: 5.8128 - accuracy: 0.8930 - val_loss: 1.1699 - val_accuracy: 0.9357\n",
            "Epoch 2/30\n",
            "480/480 [==============================] - 5s 10ms/step - loss: 0.8459 - accuracy: 0.9510 - val_loss: 0.9608 - val_accuracy: 0.9510\n",
            "Epoch 3/30\n",
            "480/480 [==============================] - 5s 10ms/step - loss: 0.5293 - accuracy: 0.9643 - val_loss: 0.7730 - val_accuracy: 0.9598\n",
            "Epoch 4/30\n",
            "480/480 [==============================] - 5s 10ms/step - loss: 0.4153 - accuracy: 0.9706 - val_loss: 0.7717 - val_accuracy: 0.9646\n",
            "Epoch 5/30\n",
            "480/480 [==============================] - 5s 10ms/step - loss: 0.3495 - accuracy: 0.9759 - val_loss: 0.8816 - val_accuracy: 0.9653\n",
            "Epoch 6/30\n",
            "480/480 [==============================] - 5s 10ms/step - loss: 0.3261 - accuracy: 0.9787 - val_loss: 0.8151 - val_accuracy: 0.9644\n",
            "Epoch 7/30\n",
            "480/480 [==============================] - 5s 10ms/step - loss: 0.2768 - accuracy: 0.9816 - val_loss: 0.9281 - val_accuracy: 0.9675\n",
            "Epoch 8/30\n",
            "480/480 [==============================] - 5s 10ms/step - loss: 0.2611 - accuracy: 0.9827 - val_loss: 1.0250 - val_accuracy: 0.9656\n",
            "Epoch 9/30\n",
            "480/480 [==============================] - 5s 10ms/step - loss: 0.2504 - accuracy: 0.9853 - val_loss: 0.9748 - val_accuracy: 0.9679\n",
            "Epoch 10/30\n",
            "480/480 [==============================] - 5s 10ms/step - loss: 0.2565 - accuracy: 0.9854 - val_loss: 1.0901 - val_accuracy: 0.9679\n",
            "Epoch 11/30\n",
            "480/480 [==============================] - 5s 10ms/step - loss: 0.2212 - accuracy: 0.9877 - val_loss: 1.0433 - val_accuracy: 0.9682\n",
            "Epoch 12/30\n",
            "480/480 [==============================] - 5s 10ms/step - loss: 0.1968 - accuracy: 0.9895 - val_loss: 1.1950 - val_accuracy: 0.9678\n",
            "Epoch 13/30\n",
            "480/480 [==============================] - 5s 10ms/step - loss: 0.1965 - accuracy: 0.9891 - val_loss: 1.1382 - val_accuracy: 0.9716\n",
            "Epoch 14/30\n",
            "480/480 [==============================] - 5s 10ms/step - loss: 0.1859 - accuracy: 0.9899 - val_loss: 1.1289 - val_accuracy: 0.9729\n",
            "Epoch 15/30\n",
            "480/480 [==============================] - 5s 10ms/step - loss: 0.1734 - accuracy: 0.9911 - val_loss: 1.2736 - val_accuracy: 0.9676\n",
            "Epoch 16/30\n",
            "480/480 [==============================] - 5s 10ms/step - loss: 0.1658 - accuracy: 0.9914 - val_loss: 1.3845 - val_accuracy: 0.9683\n",
            "Epoch 17/30\n",
            "480/480 [==============================] - 5s 10ms/step - loss: 0.1372 - accuracy: 0.9924 - val_loss: 1.2192 - val_accuracy: 0.9723\n",
            "Epoch 18/30\n",
            "480/480 [==============================] - 5s 10ms/step - loss: 0.1493 - accuracy: 0.9922 - val_loss: 1.3204 - val_accuracy: 0.9721\n",
            "Epoch 19/30\n",
            "480/480 [==============================] - 5s 10ms/step - loss: 0.1251 - accuracy: 0.9937 - val_loss: 1.2126 - val_accuracy: 0.9733\n",
            "Epoch 20/30\n",
            "480/480 [==============================] - 8s 17ms/step - loss: 0.1284 - accuracy: 0.9932 - val_loss: 1.3360 - val_accuracy: 0.9727\n",
            "Epoch 21/30\n",
            "480/480 [==============================] - 7s 14ms/step - loss: 0.1147 - accuracy: 0.9945 - val_loss: 1.2648 - val_accuracy: 0.9747\n",
            "Epoch 22/30\n",
            "480/480 [==============================] - 5s 10ms/step - loss: 0.1090 - accuracy: 0.9942 - val_loss: 1.4060 - val_accuracy: 0.9738\n",
            "Epoch 23/30\n",
            "480/480 [==============================] - 5s 10ms/step - loss: 0.1083 - accuracy: 0.9946 - val_loss: 1.4695 - val_accuracy: 0.9746\n",
            "Epoch 24/30\n",
            "480/480 [==============================] - 5s 10ms/step - loss: 0.1364 - accuracy: 0.9938 - val_loss: 1.5056 - val_accuracy: 0.9703\n",
            "Epoch 25/30\n",
            "480/480 [==============================] - 5s 10ms/step - loss: 0.0990 - accuracy: 0.9953 - val_loss: 1.4898 - val_accuracy: 0.9745\n",
            "Epoch 26/30\n",
            "480/480 [==============================] - 5s 10ms/step - loss: 0.0958 - accuracy: 0.9952 - val_loss: 1.5816 - val_accuracy: 0.9732\n",
            "Epoch 27/30\n",
            "480/480 [==============================] - 5s 10ms/step - loss: 0.0934 - accuracy: 0.9951 - val_loss: 1.5617 - val_accuracy: 0.9758\n",
            "Epoch 28/30\n",
            "480/480 [==============================] - 5s 10ms/step - loss: 0.0999 - accuracy: 0.9952 - val_loss: 1.5705 - val_accuracy: 0.9738\n",
            "Epoch 29/30\n",
            "480/480 [==============================] - 5s 10ms/step - loss: 0.0931 - accuracy: 0.9956 - val_loss: 1.7074 - val_accuracy: 0.9703\n",
            "Epoch 30/30\n",
            "480/480 [==============================] - 5s 10ms/step - loss: 0.0739 - accuracy: 0.9966 - val_loss: 1.5332 - val_accuracy: 0.9745\n"
          ],
          "name": "stdout"
        }
      ]
    },
    {
      "cell_type": "code",
      "metadata": {
        "id": "H6T6jgh75RBV",
        "colab_type": "code",
        "colab": {}
      },
      "source": [
        "acc = history.history['accuracy']\n",
        "val_acc = history.history['val_accuracy']\n",
        "\n",
        "loss = history.history['loss']\n",
        "val_loss = history.history['val_loss']\n",
        "\n",
        "epochs = range(1, len(acc)+1)"
      ],
      "execution_count": null,
      "outputs": []
    },
    {
      "cell_type": "code",
      "metadata": {
        "id": "3j7MM8fm6iE9",
        "colab_type": "code",
        "colab": {
          "base_uri": "https://localhost:8080/",
          "height": 281
        },
        "outputId": "37534343-1f18-4cf4-f455-0bfe93ccce79"
      },
      "source": [
        "plt.plot(epochs, acc, 'bo', label='Training acc')\n",
        "plt.plot(epochs, val_acc, 'b', label='Validation acc')\n",
        "plt.title('Training and validation accuracy')\n",
        "plt.legend()\n",
        "\n",
        "plt.show()"
      ],
      "execution_count": null,
      "outputs": [
        {
          "output_type": "display_data",
          "data": {
            "image/png": "[encoded data removed]",
            "text/plain": [
              "<Figure size 432x288 with 1 Axes>"
            ]
          },
          "metadata": {
            "tags": [],
            "needs_background": "light"
          }
        }
      ]
    },
    {
      "cell_type": "code",
      "metadata": {
        "id": "HNUQvmHP6vIM",
        "colab_type": "code",
        "colab": {
          "base_uri": "https://localhost:8080/",
          "height": 281
        },
        "outputId": "11be871b-fa59-499f-cce0-33f1c3b27df4"
      },
      "source": [
        "plt.plot(epochs, loss, 'bo', label='Training loss')\n",
        "plt.plot(epochs, val_loss, 'b', label='Validation loss')\n",
        "plt.title('Training and validation loss')\n",
        "plt.legend()\n",
        "\n",
        "plt.show()"
      ],
      "execution_count": null,
      "outputs": [
        {
          "output_type": "display_data",
          "data": {
            "image/png": "[encoded data removed]",
            "text/plain": [
              "<Figure size 432x288 with 1 Axes>"
            ]
          },
          "metadata": {
            "tags": [],
            "needs_background": "light"
          }
        }
      ]
    },
    {
      "cell_type": "code",
      "metadata": {
        "id": "eG9iJI0665am",
        "colab_type": "code",
        "colab": {
          "base_uri": "https://localhost:8080/",
          "height": 35
        },
        "outputId": "3e5c0638-d42c-4018-c04a-22f009b9a99c"
      },
      "source": [
        "test_loss, test_acc = model.evaluate(test_images, test_labels)"
      ],
      "execution_count": null,
      "outputs": [
        {
          "output_type": "stream",
          "text": [
            "313/313 [==============================] - 1s 3ms/step - loss: 1.3982 - accuracy: 0.9755\n"
          ],
          "name": "stdout"
        }
      ]
    },
    {
      "cell_type": "code",
      "metadata": {
        "id": "nBH1DqYhBdN7",
        "colab_type": "code",
        "colab": {
          "base_uri": "https://localhost:8080/",
          "height": 35
        },
        "outputId": "040a6b0b-fffb-4816-fb09-5e60b825e5b0"
      },
      "source": [
        "model.save('./ckeckpoint')"
      ],
      "execution_count": null,
      "outputs": [
        {
          "output_type": "stream",
          "text": [
            "INFO:tensorflow:Assets written to: ./ckeckpoint/assets\n"
          ],
          "name": "stdout"
        }
      ]
    },
    {
      "cell_type": "code",
      "metadata": {
        "id": "HUftBaIYCRTj",
        "colab_type": "code",
        "colab": {}
      },
      "source": [
        "from tensorflow.keras.models import load_model"
      ],
      "execution_count": null,
      "outputs": []
    },
    {
      "cell_type": "code",
      "metadata": {
        "id": "3kaXSGGxCOMk",
        "colab_type": "code",
        "colab": {}
      },
      "source": [
        "new_model = load_model('./ckeckpoint')"
      ],
      "execution_count": null,
      "outputs": []
    },
    {
      "cell_type": "code",
      "metadata": {
        "id": "LhHbV8kVChhZ",
        "colab_type": "code",
        "colab": {
          "base_uri": "https://localhost:8080/",
          "height": 35
        },
        "outputId": "25e6388e-a09e-49d3-c7fd-576ed86b1cf7"
      },
      "source": [
        "test_loss, test_acc = new_model.evaluate(test_images, test_labels)"
      ],
      "execution_count": null,
      "outputs": [
        {
          "output_type": "stream",
          "text": [
            "313/313 [==============================] - 1s 2ms/step - loss: 1.3982 - accuracy: 0.9755\n"
          ],
          "name": "stdout"
        }
      ]
    },
    {
      "cell_type": "code",
      "metadata": {
        "id": "-P_J7YeIF-_Z",
        "colab_type": "code",
        "colab": {}
      },
      "source": [
        "import numpy as np"
      ],
      "execution_count": null,
      "outputs": []
    },
    {
      "cell_type": "code",
      "metadata": {
        "id": "EZWpP14rGFg1",
        "colab_type": "code",
        "colab": {
          "base_uri": "https://localhost:8080/",
          "height": 71
        },
        "outputId": "ae18d82b-ee4f-4792-9bf9-c1e797ad4f7e"
      },
      "source": [
        "predict = new_model.predict(test_images[0].reshape((1, 28 * 28)))\n",
        "\n",
        "print('predict probability:', predict)\n",
        "print('predict number:', np.argmax(predict))"
      ],
      "execution_count": null,
      "outputs": [
        {
          "output_type": "stream",
          "text": [
            "predict probability: [[0. 0. 0. 0. 0. 0. 0. 1. 0. 0.]\n",
            " [0. 0. 1. 0. 0. 0. 0. 0. 0. 0.]]\n",
            "predict number: [7 2]\n"
          ],
          "name": "stdout"
        }
      ]
    },
    {
      "cell_type": "code",
      "metadata": {
        "id": "G54imh60GYft",
        "colab_type": "code",
        "colab": {
          "base_uri": "https://localhost:8080/",
          "height": 265
        },
        "outputId": "4f1f1056-46cc-481b-f7f2-a6a25bb3bb8f"
      },
      "source": [
        "plt.figure()\n",
        "plt.imshow(test_images[0].reshape(28, 28))\n",
        "plt.colorbar()\n",
        "plt.grid(False)\n",
        "plt.show()"
      ],
      "execution_count": null,
      "outputs": [
        {
          "output_type": "display_data",
          "data": {
            "image/png": "[encoded data removed]",
            "text/plain": [
              "<Figure size 432x288 with 2 Axes>"
            ]
          },
          "metadata": {
            "tags": [],
            "needs_background": "light"
          }
        }
      ]
    }
  ]
}